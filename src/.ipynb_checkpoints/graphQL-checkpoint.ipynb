{
 "cells": [
  {
   "cell_type": "code",
   "execution_count": 1,
   "id": "d1865e15535d96f2",
   "metadata": {
    "collapsed": false,
    "is_executing": true,
    "jupyter": {
     "outputs_hidden": false
    }
   },
   "outputs": [
    {
     "name": "stdout",
     "output_type": "stream",
     "text": [
      "Requirement already satisfied: python_dotenv in c:\\users\\belfo\\documents\\crypto-ethics-msr\\myenv\\lib\\site-packages (1.0.1)\n"
     ]
    },
    {
     "name": "stderr",
     "output_type": "stream",
     "text": [
      "\n",
      "[notice] A new release of pip is available: 23.2.1 -> 24.2\n",
      "[notice] To update, run: python.exe -m pip install --upgrade pip\n",
      "ERROR: Could not find a version that satisfies the requirement os (from versions: none)\n",
      "ERROR: No matching distribution found for os\n",
      "\n",
      "[notice] A new release of pip is available: 23.2.1 -> 24.2\n",
      "[notice] To update, run: python.exe -m pip install --upgrade pip\n"
     ]
    },
    {
     "name": "stdout",
     "output_type": "stream",
     "text": [
      "Requirement already satisfied: requests in c:\\users\\belfo\\documents\\crypto-ethics-msr\\myenv\\lib\\site-packages (2.32.3)\n",
      "Requirement already satisfied: charset-normalizer<4,>=2 in c:\\users\\belfo\\documents\\crypto-ethics-msr\\myenv\\lib\\site-packages (from requests) (3.3.2)\n",
      "Requirement already satisfied: idna<4,>=2.5 in c:\\users\\belfo\\documents\\crypto-ethics-msr\\myenv\\lib\\site-packages (from requests) (3.7)\n",
      "Requirement already satisfied: urllib3<3,>=1.21.1 in c:\\users\\belfo\\documents\\crypto-ethics-msr\\myenv\\lib\\site-packages (from requests) (2.2.2)\n",
      "Requirement already satisfied: certifi>=2017.4.17 in c:\\users\\belfo\\documents\\crypto-ethics-msr\\myenv\\lib\\site-packages (from requests) (2024.7.4)\n"
     ]
    },
    {
     "name": "stderr",
     "output_type": "stream",
     "text": [
      "\n",
      "[notice] A new release of pip is available: 23.2.1 -> 24.2\n",
      "[notice] To update, run: python.exe -m pip install --upgrade pip\n"
     ]
    },
    {
     "name": "stdout",
     "output_type": "stream",
     "text": [
      "Requirement already satisfied: gql in c:\\users\\belfo\\documents\\crypto-ethics-msr\\myenv\\lib\\site-packages (3.5.0)\n",
      "Requirement already satisfied: graphql-core<3.3,>=3.2 in c:\\users\\belfo\\documents\\crypto-ethics-msr\\myenv\\lib\\site-packages (from gql) (3.2.3)\n",
      "Requirement already satisfied: yarl<2.0,>=1.6 in c:\\users\\belfo\\documents\\crypto-ethics-msr\\myenv\\lib\\site-packages (from gql) (1.9.4)\n",
      "Requirement already satisfied: backoff<3.0,>=1.11.1 in c:\\users\\belfo\\documents\\crypto-ethics-msr\\myenv\\lib\\site-packages (from gql) (2.2.1)\n",
      "Requirement already satisfied: anyio<5,>=3.0 in c:\\users\\belfo\\documents\\crypto-ethics-msr\\myenv\\lib\\site-packages (from gql) (4.4.0)\n",
      "Requirement already satisfied: idna>=2.8 in c:\\users\\belfo\\documents\\crypto-ethics-msr\\myenv\\lib\\site-packages (from anyio<5,>=3.0->gql) (3.7)\n",
      "Requirement already satisfied: sniffio>=1.1 in c:\\users\\belfo\\documents\\crypto-ethics-msr\\myenv\\lib\\site-packages (from anyio<5,>=3.0->gql) (1.3.1)\n",
      "Requirement already satisfied: multidict>=4.0 in c:\\users\\belfo\\documents\\crypto-ethics-msr\\myenv\\lib\\site-packages (from yarl<2.0,>=1.6->gql) (6.0.5)\n"
     ]
    },
    {
     "name": "stderr",
     "output_type": "stream",
     "text": [
      "\n",
      "[notice] A new release of pip is available: 23.2.1 -> 24.2\n",
      "[notice] To update, run: python.exe -m pip install --upgrade pip\n"
     ]
    },
    {
     "name": "stdout",
     "output_type": "stream",
     "text": [
      "Requirement already satisfied: requests-toolbelt in c:\\users\\belfo\\documents\\crypto-ethics-msr\\myenv\\lib\\site-packages (1.0.0)\n",
      "Requirement already satisfied: requests<3.0.0,>=2.0.1 in c:\\users\\belfo\\documents\\crypto-ethics-msr\\myenv\\lib\\site-packages (from requests-toolbelt) (2.32.3)\n",
      "Requirement already satisfied: charset-normalizer<4,>=2 in c:\\users\\belfo\\documents\\crypto-ethics-msr\\myenv\\lib\\site-packages (from requests<3.0.0,>=2.0.1->requests-toolbelt) (3.3.2)\n",
      "Requirement already satisfied: idna<4,>=2.5 in c:\\users\\belfo\\documents\\crypto-ethics-msr\\myenv\\lib\\site-packages (from requests<3.0.0,>=2.0.1->requests-toolbelt) (3.7)\n",
      "Requirement already satisfied: urllib3<3,>=1.21.1 in c:\\users\\belfo\\documents\\crypto-ethics-msr\\myenv\\lib\\site-packages (from requests<3.0.0,>=2.0.1->requests-toolbelt) (2.2.2)\n",
      "Requirement already satisfied: certifi>=2017.4.17 in c:\\users\\belfo\\documents\\crypto-ethics-msr\\myenv\\lib\\site-packages (from requests<3.0.0,>=2.0.1->requests-toolbelt) (2024.7.4)\n"
     ]
    },
    {
     "name": "stderr",
     "output_type": "stream",
     "text": [
      "\n",
      "[notice] A new release of pip is available: 23.2.1 -> 24.2\n",
      "[notice] To update, run: python.exe -m pip install --upgrade pip\n",
      "ERROR: Could not find a version that satisfies the requirement re (from versions: none)\n",
      "ERROR: No matching distribution found for re\n",
      "\n",
      "[notice] A new release of pip is available: 23.2.1 -> 24.2\n",
      "[notice] To update, run: python.exe -m pip install --upgrade pip\n"
     ]
    }
   ],
   "source": [
    "!pip install python_dotenv\n",
    "!pip install os\n",
    "!pip install requests\n",
    "!pip install gql\n",
    "!pip install requests-toolbelt\n",
    "!pip install re\n",
    "!pip install pandas"
   ]
  },
  {
   "cell_type": "code",
   "execution_count": 17,
   "id": "ae110e465a9b519",
   "metadata": {
    "collapsed": false,
    "is_executing": true,
    "jupyter": {
     "outputs_hidden": false
    }
   },
   "outputs": [],
   "source": [
    "import os\n",
    "from dotenv import load_dotenv\n",
    "from gql import Client, gql\n",
    "from gql.transport.requests import RequestsHTTPTransport\n",
    "import re\n",
    "import pandas as pd"
   ]
  },
  {
   "cell_type": "code",
   "execution_count": 3,
   "id": "initial_id",
   "metadata": {
    "ExecuteTime": {
     "start_time": "2024-08-14T01:16:49.548797200Z"
    }
   },
   "outputs": [],
   "source": [
    "#carrega a chave da API\n",
    "load_dotenv(\"../.env\")\n",
    "token = os.getenv('GH_TOKEN')\n",
    "if token is None:\n",
    "    raise ValueError(\"GitHub token is not set. Check your .env file.\")"
   ]
  },
  {
   "cell_type": "code",
   "execution_count": 4,
   "id": "8bf126be85271a20",
   "metadata": {
    "ExecuteTime": {
     "start_time": "2024-08-14T01:16:49.568792600Z"
    },
    "collapsed": false,
    "jupyter": {
     "outputs_hidden": false
    }
   },
   "outputs": [
    {
     "data": {
      "text/plain": [
       "{'repository': {'name': 'bitcoin',\n",
       "  'description': 'Bitcoin Core integration/staging tree',\n",
       "  'issues': {'edges': [{'node': {'title': 'JSON-RPC support for mobile devices (\"ultra-lightweight\" clients)',\n",
       "      'body': 'The idea is to enable mobile or other not-always-connected-to-the-network clients, where the wallet is kept (encrypted, probably) on the mobile device, and the device periodically communicates with a bitcoin-network-connected node to:\\n- Update balance for keys in its wallet\\n- Submit signed transactions to the network\\n',\n",
       "      'createdAt': '2010-12-19T16:17:53Z',\n",
       "      'comments': {'edges': [{'node': {'body': 'Yes, very important. If we enable mobile devices, pocket wallets will be soon obsolete ;-) GUI for smart-phones should include some QR reader, such as portapayment.com \\n',\n",
       "          'createdAt': '2011-02-07T13:43:11Z'}},\n",
       "        {'node': {'body': '\"Submit signed transactions to the network\"\\n\\nI want that as well, for Google App Engine, where you cannot participate in the regular peer-to-peer protocol, because you cannot open sockets. Having something like an XMPP proxy that pushes signed transactions into the peer network would be cool. Maybe the existing IRC channel can also be used for that.\\n',\n",
       "          'createdAt': '2011-04-07T11:43:38Z'}},\n",
       "        {'node': {'body': 'I offer 1 BTC bounty.\\n\\nRegards,\\nCarlo\\n',\n",
       "          'createdAt': '2011-09-15T12:35:03Z'}}],\n",
       "       'pageInfo': {'hasNextPage': False,\n",
       "        'endCursor': 'Y3Vyc29yOnYyOpHOACAaZQ=='}}}},\n",
       "    {'node': {'title': 'Long-term, safe, store-of-value',\n",
       "      'body': \"Should we add features to bitcoin to enable the use of bitcoins as a long-term, secure, store-of-value for wealth?\\n\\nPossible features to enable this type of use:\\n- Easy yet ultra-safe way to export part of you wallet's balance to a file.\\n- Easy way to verify the balance stored in one of those exported files.\\n\",\n",
       "      'createdAt': '2010-12-19T16:22:54Z',\n",
       "      'comments': {'edges': [{'node': {'body': 'File should be human-readable\\n',\n",
       "          'createdAt': '2010-12-20T19:01:12Z'}},\n",
       "        {'node': {'body': 'Seconded. I have been using Bitcoin for a couple of days, and while many users will not care about the details, I want to know (at least during my initial testing of the system) exactly how it works. This will help me, and other tech-savvy users understand the security implications.\\n\\nTo me, the biggest \"black box\" of the whole system is the wallet. It\\'s a binary blob which I am told to keep backed up or else. It\\'s unclear to me how I would restore it without erasing recent transactions. I\\'m not sure which data is stored in it and which is not -- from the look of some other bugs here, it seems to store more data than just the public/private keys (such as config data). Does it store the names I have associated with the addresses? (I wouldn\\'t want to lose my PC, restore my wallet.dat, and discover I can\\'t tell who sent me what, so I\\'d hope it does store those names.) Does it store sending addresses? (I don\\'t think it should, as that\\'s more of an address book than a crucial wallet.) And it isn\\'t encrypted with a password.\\n\\nI\\'m not asking for answers to these questions -- I can find them out if I really want to. I\\'m saying that these answers should be immediately obvious from inspecting the wallet file. There should be nothing \"magical\" about this file, for an advanced user.\\n\\nI would like to see a transition to a \"Wallet 2.0\" file format, which is simply a PGP-encrypted text file (so, binary, but a simple gpg -d will get the text out). I should be able to encrypt it with either a symmetric or public key.\\n\\nInside the file, there would be a simple ASCII format, such as:\\n&lt;address&gt; (active|inactive) [name] &lt;pub-key&gt; &lt;priv-key&gt;\\n\\nwith one address per line (or split into \"sections\" if the pub-key and priv-key are too long to put on a single line). The active|inactive determines whether the address shows up as a receive address in the GUI (so when it pre-generates 100 addresses, they all show up here, and are all marked inactive until the user presses \"New Address\" in the UI).\\n\\nThis would only contain receiving addresses. Sending addresses would be in a separate address book file, which would hopefully also be a text file, and I could back up too if I wanted to but isn\\'t critical.\\n\\nNow, at a glance, I (as a technical user) can tell exactly what data is stored in the wallet. And it should be significantly easier to write tools for listing all the money associated with each account in the wallet, splitting up a wallet into separate files, and so on.\\n',\n",
       "          'createdAt': '2011-02-17T06:23:55Z'}},\n",
       "        {'node': {'body': 'Agree about human readable, I would love to actually understand the contents of my wallet. \\n',\n",
       "          'createdAt': '2011-03-06T01:28:23Z'}},\n",
       "        {'node': {'body': 'See my bitcointools tree for a (python) tool that dumps out the information in the wallet in a human-readable form.\\n',\n",
       "          'createdAt': '2011-03-06T21:21:19Z'}},\n",
       "        {'node': {'body': \"I'm currently working on a patch that will allow export and import of wallets in a human readable form.\\n\\nThe format i've been using currently has lines of this form:\\n[privatekey] [block nr of earlest unredeemed output to this key] # [address] [available BTC]\\n\\nThe part after the # is optional, since only the private key suffices, the rest can be derived, The block number was suggested by Gavin on the forum somewhere, as an optimization.\\n\\nMaybe adding address labels is useful as well.\\n\",\n",
       "          'createdAt': '2011-03-12T22:31:02Z'}},\n",
       "        {'node': {'body': 'There has been some discussion relating to a so-called \".bitkeys\" format, which would be a standardised human-readable text file format for storing Bitcoin private key data. It seems to have been suggested here by [mike]:\\n[http://www.bitcoin.org/smf/index.php?topic=3638.40](http://www.bitcoin.org/smf/index.php?topic=3638.40)\\n\\nI don\\'t know if the format discussion has moved elsewhere, but you should try to be compatible with this format.\\n\\nBasically, this means your file should start with v=1 (version, I assume). Exporter should write v=1, importer should check for v=1.\\n\\nOtherwise, what you suggest is almost right, but the private key and block number should be comma-separated:\\nbase58 encoded privkey,block number  # comment\\n\\nEverything after the hash is a comment. You said it was \"optional\" but that sort of implies that your software will possibly be looking for an address and available BTC. It should not, since the format should allow arbitrary machine-ignored text after the #. So your exporter should write # [address] [available BTC] or whatever you want, but your importer should completely ignore everything after the comment and just use the privatekey to derive the public key and address.\\n\\nAlso note, if you haven\\'t written the code for this already, that I already implemented, in C using OpenSSL, the code to take a 32-byte private key and generate the full 279-byte DER key (which Bitcoin internally calls the \"private key\") and 65-byte public key. My intention was for my code to eventually be used inside Bitcoin itself, so please use it if you can:\\n- [bitcoin-import Bazaar branch](https://code.launchpad.net/~mgiuca/+junk/bitcoin-import)\\n- [priv_der.c](http://bazaar.launchpad.net/~mgiuca/+junk/bitcoin-import/view/head:/priv_der.c)\\n\\nIt is currently a command-line program which takes the private key as input and produces the DER key (of which the public key is a substring), but it is very well documented and could easily be adapted into a bitkeys file reader.\\n',\n",
       "          'createdAt': '2011-03-13T01:41:09Z'}},\n",
       "        {'node': {'body': \"Sure, that thread is where i got the idea, i couldn't remember where it was. The code for importing and exporting private keys also already exists, see http://www.bitcoin.org/smf/index.php?topic=3906. The hard part is keeping the data structures in bitcoind intact and up to date when importing things.\\n\\nThe precise formatting is only a detail that can easily be changed. Clearly, the importer will ignore everything after a #, as the address and available BTC to an address can be derived from the private key and the block chain, but still useful for human readers, so the exporter will put them in comments.\\n\\nMaybe we should start the format discussion again, since there are additional useful things to put in such a file, it seems. Whether or not the key is only a reserve key, a possible label for a key, ...\\n\",\n",
       "          'createdAt': '2011-03-13T02:27:05Z'}},\n",
       "        {'node': {'body': '+1 on human-readable.\\n',\n",
       "          'createdAt': '2013-04-25T21:02:41Z'}},\n",
       "        {'node': {'body': 'No +1ing here please. If you comment, add something substantial. Otherwise, code or gtfo :)\\n',\n",
       "          'createdAt': '2013-04-26T05:56:12Z'}},\n",
       "        {'node': {'body': 'I think this issue is too vague and outside the scope of what we normally consider issues/pull reqs, these days.  Recommend closing.\\n',\n",
       "          'createdAt': '2013-04-26T05:58:36Z'}}],\n",
       "       'pageInfo': {'hasNextPage': True,\n",
       "        'endCursor': 'Y3Vyc29yOnYyOpHOAQREZw=='}}}},\n",
       "    {'node': {'title': 'Encrypt wallet',\n",
       "      'body': 'Often requested feature:  encrypt private keys in the wallet.dat file, so a password is required for a send transaction.\\n',\n",
       "      'createdAt': '2010-12-19T16:24:45Z',\n",
       "      'comments': {'edges': [{'node': {'body': 'I think we can be creative about the way to input the password. IMHO it should be similar to the Android. It is really awesome and forces you into thinking about something more abstract. :)\\n',\n",
       "          'createdAt': '2011-01-13T23:08:58Z'}},\n",
       "        {'node': {'body': 'How does Android do it?  Got a reference?\\n',\n",
       "          'createdAt': '2011-01-25T00:48:32Z'}},\n",
       "        {'node': {'body': 'I jotted down some thoughts here:\\n https://gist.github.com/803170\\n',\n",
       "          'createdAt': '2011-01-30T19:48:03Z'}},\n",
       "        {'node': {'body': 'I think this is a key feature. Manually backing up and securing your wallet really sucks, I think this keeps a lot of users from using BitCoin. Also there should be possible to specify wallet location. This way I would keep my wallet in my dropbox and therefore would take care of backing up.\\n',\n",
       "          'createdAt': '2011-02-11T07:56:13Z'}},\n",
       "        {'node': {'body': \"The Andriod way of inputting your passcode (assuming you mean what you think I mean) is kind of a 'connect the dot' system, where you slide your finger from the first digit directly to the second.  This has the implication of actually being less secure than using the traditional tap per digit system, because it limits the number of neighboring digits to 8 as opposed to the full 10.\\nWith the andriod way, if the first digit for your password is 5, then your possible choices for a second digit are 1,2,3, 4 and 6, and 7,8,9.  However, consider what happens when your starting digit is 1, your next available digits become 2, 4 and 5. With the traditional method, no matter what key you start on, you may choose any other 0-9 number.\\nI do applaud the creativity and innovation, but I think the security implications need to be pointed out.\\n\\nI would like if my wallet was encrypted taking advantage of my already existing GnuPG key. :)\\n\",\n",
       "          'createdAt': '2011-02-14T05:22:31Z'}},\n",
       "        {'node': {'body': 'Suppose we encrypt keys with the public key of a separate private key. That private key is encrypted with a symmetric algorithm, whose key is derived from the passphrase. I believe this is how GnuPG works. When we store this encrypted key in the wallet, we also store a reference to the associated private key. (Or, perhaps have it elsewhere on the file system... usb drive? smart card? keyring?) With this functionality, we could prompt the user for a password once and decrypt multiple keys. It also means that a wallet could be separated into virtual partitions with different encryption keys. I think it would allow a smooth transition, but would it be backwards compatible?[1]\\n\\nHere\\'s the way I imagine interacting with this. I would keep a small amount of bitcoin in the clear. This allows me to easily spend the small amount while assuring I won\\'t lose much if my device is compromised (good for mobile devices). I can easily encrypt/decrypt keys by entering a target amount to \"transfer\". The actual amount is determined by picking keys with transactions (outputs?) summing to approximately the target. In order to spend more than is in the clear, I must enter one (or more) passphrases, but the rest is automated.\\n\\n[1]Can the structure of the wallet be modified for encrypted keys and a reference to the encrypting private key without causing a breaking change?\\n',\n",
       "          'createdAt': '2011-02-24T08:56:04Z'}},\n",
       "        {'node': {'body': \"Fnordsoft, I hope the GPG mechanism is simpler - the pass phrase is hashed into a symmetric key, and that key is used to encrypt the sensitive data in the wallet. Much simpler, and you don't have to worry about storing a private key anywhere. The user enters the pass phrase, and the program checks it by encrypting something with the public key, then decrypting it with the private key, and ensuring that the resulting 'something' matches the original 'something'.\\n\\nAs for the input, keep it simple: there's nothing wrong with the plain ol' keyboard. The Android style may work well on a mobile device, but would be a royal pain in the **\\\\* anywhere else.\\n\",\n",
       "          'createdAt': '2011-03-06T08:16:52Z'}},\n",
       "        {'node': {'body': 'jhyslop, but many of us already use GnuPG with public key cryptography, so we\\'re already storing private keys which we use for other purposes. Adding one more key is trivial. \\n\\nI see no reason why both symmetric and public key cryptography couldn\\'t be available as an option.  Aside from the obvious \"who will program it\" part.\\n',\n",
       "          'createdAt': '2011-03-06T08:40:29Z'}},\n",
       "        {'node': {'body': \"OK, I see what you're getting at, Jeff. Yeah, that could be an option. The default, I think, should be to use the hashed pass phrase as a symmetric key, with an option to allow advanced users to provide a public key.\\n\",\n",
       "          'createdAt': '2011-03-06T16:27:34Z'}},\n",
       "        {'node': {'body': 'By the way, just to clarify - when I said \"the default should be to use the hashed pass phrase as a symmetric key\" (HPPASK) I wasn\\'t necessarily pushing HPPASK as The Solution. To generalize my statement, what I meant was \"the default should be some password mechanism that keeps the wallet self-contained, and by the way the HPPASK seems to me a simple solution that meets the needs.\"\\n',\n",
       "          'createdAt': '2011-03-06T16:55:14Z'}}],\n",
       "       'pageInfo': {'hasNextPage': True,\n",
       "        'endCursor': 'Y3Vyc29yOnYyOpHOAAzRnQ=='}}}},\n",
       "    {'node': {'title': 'Export/Import wallet in a human readable, future-proof format',\n",
       "      'body': '',\n",
       "      'createdAt': '2010-12-19T16:28:57Z',\n",
       "      'comments': {'edges': [{'node': {'body': 'Is this useful at all if there is no matching import?\\n(export is pretty easy, the import is what is hard...)\\n',\n",
       "          'createdAt': '2010-12-20T13:54:43Z'}},\n",
       "        {'node': {'body': 'Yes, I forgot that\\n',\n",
       "          'createdAt': '2010-12-20T17:34:10Z'}},\n",
       "        {'node': {'body': 'Duplicate of #2\\n',\n",
       "          'createdAt': '2010-12-20T19:01:29Z'}}],\n",
       "       'pageInfo': {'hasNextPage': False,\n",
       "        'endCursor': 'Y3Vyc29yOnYyOpHOAAmKYw=='}}}},\n",
       "    {'node': {'title': 'Make the version number the protocol version and not the client version',\n",
       "      'body': 'As there is a String field (SubVersionNum) I think it would be better not to increment the protocol version along with the client version number. It makes creating alternative clients easier.\\n',\n",
       "      'createdAt': '2010-12-19T20:06:45Z',\n",
       "      'comments': {'edges': [{'node': {'body': \"Anyone thoughts on this? It's now one month old. I'll close it in a few days if no one comments on this.\\n\",\n",
       "          'createdAt': '2011-02-06T01:25:53Z'}},\n",
       "        {'node': {'body': 'Well we do have 4 upvotes, so it is something that has some interest. Generally we should distinguish better between the Protocol and Satoshis client.\\n',\n",
       "          'createdAt': '2011-02-06T15:03:05Z'}},\n",
       "        {'node': {'body': 'Can you make a patch?\\n',\n",
       "          'createdAt': '2011-02-06T18:16:41Z'}},\n",
       "        {'node': {'body': 'It\\'s not really something you can \"patch\", it\\'s all about not increasing the version number in the version message if the update does not break backward compatibility. instead of using the version number use the version string to identify the client and client version.\\n',\n",
       "          'createdAt': '2011-02-06T18:19:37Z'}},\n",
       "        {'node': {'body': \"Well, a patch would at least add a constant PROTOCOL_VERSION = xyz, wouldn't it?\\n\",\n",
       "          'createdAt': '2011-02-06T18:24:11Z'}},\n",
       "        {'node': {'body': \"I'll look into it ^^\\nHow should I submit it?\\n\",\n",
       "          'createdAt': '2011-02-06T18:46:15Z'}},\n",
       "        {'node': {'body': 'pull request :)\\n',\n",
       "          'createdAt': '2011-02-06T18:53:32Z'}},\n",
       "        {'node': {'body': \"Ok, submitted the pull request. Please review :D It's not much but this is more of a design change than a code change ^^\\n\",\n",
       "          'createdAt': '2011-02-10T18:21:41Z'}},\n",
       "        {'node': {'body': \"This seems to be opposite of satoshi's intent.\\n\",\n",
       "          'createdAt': '2011-02-13T07:02:48Z'}},\n",
       "        {'node': {'body': 'Comments moved to pull request.\\n',\n",
       "          'createdAt': '2011-02-13T09:22:02Z'}}],\n",
       "       'pageInfo': {'hasNextPage': False,\n",
       "        'endCursor': 'Y3Vyc29yOnYyOpHOAAu0-A=='}}}},\n",
       "    {'node': {'title': 'Treat wallet as a generic keystore',\n",
       "      'body': 'Actually it would be even nicer if we could treat our wallet.dat file as a generic keystore, importing and exporting keys.\\nThis would allow merging and splitting of wallets as well, besides signatures as suggested above.\\n\\nSee : http://www.bitcoin.org/smf/index.php?topic=2373.0\\n',\n",
       "      'createdAt': '2010-12-20T12:29:43Z',\n",
       "      'comments': {'edges': [{'node': {'body': 'We already have generic keystores on Linux machines, why not adapt Bitcoin to use them and provide a really simple one for systems that do not provide their own?\\n',\n",
       "          'createdAt': '2010-12-20T13:34:11Z'}},\n",
       "        {'node': {'body': 'See my python bitcointools for code that can read and write the key/value pairs in wallet.dat (fixwallet.py reads the wallet and writes out a new wallet, leaving out any keys that seem to be mis-formatted).\\n\\nMerging wallets is hard because you have to teach bitcoin to re-scan the block chain for transactions to or from keys you just imported.\\n',\n",
       "          'createdAt': '2010-12-20T13:45:44Z'}},\n",
       "        {'node': {'body': 'Just delete all the block data and redownload the block chain.\\n',\n",
       "          'createdAt': '2010-12-20T13:49:47Z'}},\n",
       "        {'node': {'body': \"Deletion is not necessary,\\ndoesn't it already happen anyway when wallet is replaced ?\\n\",\n",
       "          'createdAt': '2010-12-20T17:32:33Z'}},\n",
       "        {'node': {'body': 'Easy import and export of keys would make it easier for trusted vendors to sell Bitcoin stored-value cards (USB sticks, mini CDs, etc) with a private key on them.  The buyer then just imports the private key from the card.\\n\\nEasy import/export also addresses parts of issue #2\\n',\n",
       "          'createdAt': '2011-02-09T18:00:28Z'}},\n",
       "        {'node': {'body': \"Easy import/export is an important feature for the day when transactions are no longer free on the network.  People won't want to pay transaction fees when consolidating or moving btc value between different wallets they own.  Also, easy import/export should be treated like moving (rather than copying) to prevent keys from ending up in multiple, concurrently active wallets (backup should be used for ensuring you don't lose keys).\\n\\nI think I'll create a separate issue for this (since it is straying from this topic).\\n\\nAs for treating the wallet as a generic key store or using existing key store solutions, I think it's better to stay away from that in the short term.  That could pose quite a few technical and integration challenges, and if not done very carefully, could pose a security risk (you would be putting bitcoin users at the mercy of third party key storage solutions that may or may not be very well implemented). \\n\",\n",
       "          'createdAt': '2011-02-28T04:32:35Z'}},\n",
       "        {'node': {'body': 'https://github.com/bitcoin/bitcoin/pull/220 wallet import and export should resolve this issue, please contribute to that thread.\\n',\n",
       "          'createdAt': '2011-09-06T06:46:58Z'}}],\n",
       "       'pageInfo': {'hasNextPage': False,\n",
       "        'endCursor': 'Y3Vyc29yOnYyOpHOAB6pFQ=='}}}},\n",
       "    {'node': {'title': 'Block-header-only, faster startup client',\n",
       "      'body': \"Bitcoin newbies have to endure an hour or two (or more) while bitcoin downloads and indexes all transactions and blocks.\\n\\nSatoshi has mostly implemented code that downloads just the block headers; as long as you're not generating blocks, you don't need all the old transactions.\\n\",\n",
       "      'createdAt': '2010-12-20T13:53:07Z',\n",
       "      'comments': {'edges': [{'node': {'body': \"See the blockheaders feature branch here for initial work on this.  Notes from Satoshi:\\n\\nCBlockIndex contains all the information of the block header, so to operate with headers only, I just maintain the CBlockIndex structure as usual.  The nFile/nBlockPos are null, since the full block is not recorded on disk.\\n\\nThe code to gracefully switch between client-mode on/off without deleting blk*.dat in between is not implemented yet.  It would mostly be a matter of having non-client LoadBlockIndex ignore block index entries with null block pos.  That would make it re-download those as full blocks.  Switching back to client-mode is no problem, it doesn't mind if the full blocks are there.\\n\\nIf the initial block download becomes too long, we'll want client mode as an option so new users can get running quickly.  With graceful switch-off of client mode, they can later turn off client mode and have it download the full blocks if they want to start generating.\\n\",\n",
       "          'createdAt': '2010-12-20T17:44:49Z'}},\n",
       "        {'node': {'body': '@gavinandresen, we need to add another service category (NODE_SPV??) for SPV clients, so that they can operate without getting queried for blocks by other peers.\\n',\n",
       "          'createdAt': '2014-03-29T11:50:24Z'}},\n",
       "        {'node': {'body': 'Why, how is this any different from what SPV clients do?\\nSee #3884 for another step towards this.\\n',\n",
       "          'createdAt': '2014-03-29T11:54:46Z'}},\n",
       "        {'node': {'body': \"@laanwj, my understanding is that most SPV clients at the moment either get headers from a centralised source (Electrum) or use their own p2p network. I don't know, some may use the main Bitcoin network, but wouldn't they be queried for blocks by other clients and have to ignore those requests which could confuse the other peer (maybe?). I think it would be neater if other peers knew that you could be asked for headers, but not for blocks/txs. Anyway, sorry to bring up an old issue. Just thought someone should start working through the massive backlog, so I started from the back.\\n\",\n",
       "          'createdAt': '2014-03-30T00:24:46Z'}},\n",
       "        {'node': {'body': \"@bardiharborow \\nSPV nodes talk to full nodes, not to each other (although that might be possible as well?). There's a service bit specifically for offering full blocks instead of just headers: https://en.bitcoin.it/wiki/Protocol_specification#version\\n\",\n",
       "          'createdAt': '2014-03-30T00:29:48Z'}},\n",
       "        {'node': {'body': \"Electrum does SPV validation, but is in the strictly technical sense not an SPV node, as it does not participate in the P2P network.\\n\\nActual SPV nodes (like Bitcoin Wallet for Android or Multibit) do connect to the P2P network (only to other full nodes, service flag NODE_NETWORK), and fetch blocks and headers from it. SPV nodes so far don't connect to each other, both because they provide very little service (most don't even keep all old headers around) and because they are only online sporadically.\\n\",\n",
       "          'createdAt': '2014-03-30T15:06:02Z'}},\n",
       "        {'node': {'body': \"I've just realised that nodes can chose not to advertise their IP, which I assume is what they do. Does anyone know how hard this would be to implement? The only technical discussion seems to be 3 years old. Wouldn't we also need a way of being alerted to transactions and downloading merkle branches? (This may already exist but the wiki maybe out of date and I'm not completely on top of the code.)\\n\",\n",
       "          'createdAt': '2014-03-30T21:36:40Z'}},\n",
       "        {'node': {'body': \"All this exists. SPV clients are used, and the protocol provides everything necessary. See BIP37 for example.\\n\\nThe only thing we don't have is the ability to run the reference code base in such an SPV client mode, where it doesn't do full block validation. There are several steps towards that, but the first is certainly headers-first synchronization.\\n\",\n",
       "          'createdAt': '2014-03-30T21:38:31Z'}},\n",
       "        {'node': {'body': '@bardiharborow This has all been done years ago. Please move questions like these to the stack exchange or forums, or #bitcoin on IRC. Github is not the place for basic discussion like this.\\n',\n",
       "          'createdAt': '2014-03-31T02:18:36Z'}},\n",
       "        {'node': {'body': 'Headers-first download merged. And there are plenty of SPV wallets. Closing this.\\n',\n",
       "          'createdAt': '2014-10-28T18:28:34Z'}}],\n",
       "       'pageInfo': {'hasNextPage': False,\n",
       "        'endCursor': 'Y3Vyc29yOnYyOpHOA5_VTw=='}}}},\n",
       "    {'node': {'title': 'RPC command to sign text with wallet private key',\n",
       "      'body': 'I\\'m imagining an RPC call something like:\\n\\nsigntext &lt;bitcoinaddress&gt; \"MESSAGE...\"\\n ... returns signature, in some standards-compliant format, assuming bitcoinaddress corresponds to a public key in our wallet.\\n\\nThere should also be:\\nverify &lt;bitcoinaddress&gt; \"MESSAGE\" \"SIGNATURE\"\\n ... which return true or false or \"I have no idea what the public key for &lt;bitcoinaddress&gt; is\".\\n',\n",
       "      'createdAt': '2010-12-20T13:59:42Z',\n",
       "      'comments': {'edges': [{'node': {'body': 'I disagree with this. Bitcoin keys should be used for one purpose only - creating bitcoins. Any other use will erode the anonymity that the system can afford.\\n\\nSounds like what you really want is GPG.\\n',\n",
       "          'createdAt': '2011-03-06T06:43:56Z'}},\n",
       "        {'node': {'body': \"I don't see how this erodes anonymity if you don't use it.\\n\\nAnd being able to prove that you own a given bitcoin address can be used for all sorts of interesting things for cases where you specifically do NOT want to be anonymous.\\n\",\n",
       "          'createdAt': '2011-03-06T21:20:15Z'}},\n",
       "        {'node': {'body': \"OK, I'll go along with that.\\n\",\n",
       "          'createdAt': '2011-03-07T02:07:30Z'}},\n",
       "        {'node': {'body': 'I\\'ve been thinking about this some more. Rather than sign an arbitrary message (which is generally frowned on by those smarter than me at cryptography; as I recall, a carefully-crafted message can make it easier to perform certain types of known-plaintext attacks)... um, where was I? Oh, yeah, what about adding specific RPC commands to issue a specific message? For example, if you want to prove you own(ed) a particular coin, you could issue a command something like \"getproofofownership <address>\". Of course, under the hood that would be implemented using a routine that signs a message string, but the contents of the message string would be under the program\\'s control.\\n\\nThat would also force us to think through the specific use-cases for which this feature is needed.\\n',\n",
       "          'createdAt': '2011-03-07T23:59:12Z'}},\n",
       "        {'node': {'body': 'What if you created a temporary key, signed the message with that and then signed the signature or the address of the temp key with your main key. Would this be more secure? \\n',\n",
       "          'createdAt': '2011-09-07T08:04:52Z'}}],\n",
       "       'pageInfo': {'hasNextPage': False,\n",
       "        'endCursor': 'Y3Vyc29yOnYyOpHOAB7sGw=='}}}},\n",
       "    {'node': {'title': 'Monitor transactions and/or blocks',\n",
       "      'body': 'Design and implement a RPC call to register a HTTP-JSON-RPC callback, and have it get called when blocks and/or \"transactions of interest\" occur.\\n\\nGavin has already implemented a version of this; unresolved issues are:\\n- How to specify which transactions are \"of interest\" ?\\n  Transactions to a specific address after A/B/C confirmations?\\n  All transactions to (or from?) the wallet?\\n  All transactions to (or from?) a specific account?\\n\\nNote: information reported should be same as gettransaction.\\n- What information to report about blocks (if any).  Perhaps implement a getblock before monitorblock.\\n',\n",
       "      'createdAt': '2010-12-22T14:40:16Z',\n",
       "      'comments': {'edges': [{'node': {'body': 'Discussion here: http://www.bitcoin.org/smf/index.php?topic=2647.0\\n',\n",
       "          'createdAt': '2011-01-06T19:36:49Z'}},\n",
       "        {'node': {'body': 'If `debug.log` showed full transaction IDs in the \"got inventory\" line, one could do:\\n\\n```\\ntail -F debug.log | grep \"got inventory.*new\" | my-script\\n```\\n\\nto monitor for new transactions and then run `gettransaction` to see the details.  For some projects, this would be easier since no HTTP server is required.  As it is, only partial transaction IDs are visible in `debug.log` so this doesn\\'t work.\\n',\n",
       "          'createdAt': '2011-02-09T18:09:32Z'}},\n",
       "        {'node': {'body': 'Suggested monitorblocks API posted to forum.\\n',\n",
       "          'createdAt': '2011-02-10T06:22:12Z'}},\n",
       "        {'node': {'body': 'The current -blocknotify seems to take care of this.  Addressing $IssueText directly, HTTP callbacks seem to have lost favor over program execution.\\n',\n",
       "          'createdAt': '2012-07-05T21:28:38Z'}}],\n",
       "       'pageInfo': {'hasNextPage': False,\n",
       "        'endCursor': 'Y3Vyc29yOnYyOpHOAGef-g=='}}}},\n",
       "    {'node': {'title': 'Messages with or about transactions',\n",
       "      'body': 'It\\'d be cool if there was some mechanism for secure communication between sender/receiver.\\n\\nIdeally, the mechanism would be secure from eavesdroppers and authenticated by the bitcoin addresses involved (so would be as anonymous as those addresses).\\n\\nAlso ideally either store-and-forward (email-like) AND/OR real-time (instant-message-like) communication should be possible.\\n\\nStoring the messages in the block chain as part of transactions (as proposed by several people) is probably NOT the right approach.  And building the actual message communication into core bitcoin may not be the right approach.\\n\\nUse cases to design for:\\n- Store wants to send anonymous customer information on status of an order they paid for a while ago. (example: \"free upgrade for the software you bought last week is available\" or \"warning: the file you downloaded yesterday has been reported to contain malware\")\\n  -- what about possiblity of spam?\\n- Customer wants to send authenticated message about a payment they sent (example: \"I messed up the shipping address, please send to \\'123 main street\\' instead of \\'213 main street\\'\" or \"the file I just got from you contains a virus\")\\n\\nBitcoin knows how to sign transactions with the public key corresponding to a bitcoin address; the key feature needed is, Gavin thinks, authentication: are you _really_ communicating with the sender/receiver of _bitcoin address_?   Perhaps bitcoin could support a function \"please sign this arbitrary stuff with _bitcoin address for which you have the private key_ and return the digital signature\"; that might be sufficient to integrate with existing secure messaging infrastructure (like PGP email).\\n',\n",
       "      'createdAt': '2010-12-22T14:51:28Z',\n",
       "      'comments': {'edges': [{'node': {'body': 'There\\'s definitely something to this.\\n\\nI think the spam potential of your first use case is too nasty to contemplate. I\\'d be satisfied with commerce systems including a business rule which says \"if you want further notifications, attach an email address to your order\". The spam problem is already addressed broadly in the email domain, and email addresses can be rather anonymous.\\n\\nSigning an email with the bitcoin key is a neat idea, but there\\'s a lack of symmetry in the typical commerce application. Customer learns a bitcoin address for vendor, so vendor can later sign messages back to customer using that address\\'s private key. Not so in the reverse, unless the customer provides an address of their own as part of the exchange.\\n\\nWhat I would like to see is the ability to attach a small, optional data field to a transaction. For example, here in Slovakia, the banking system provides for the attachment of several fields to an electronic payment: constant symbol (4), variable symbol (10), specific symbol (16?), note (32?). The constant symbol is used for tax accounting purposes, and the rest are used to correlate payments with accounts, similar to \"please be sure to include your account/invoice number on your check\".\\n\\nI\\'m guessing this is already provided for in the protocol, though I\\'m not familiar with that part of the implementation. Also, it\\'s arguable that it\\'s not necessary if a merchant generates a new bitcoin address for each payment. Not a big priority, really.\\n',\n",
       "          'createdAt': '2011-01-07T01:44:45Z'}},\n",
       "        {'node': {'body': \"Is the bitcoin receiver address equivalent to a public key? If so, it could be used to encrypt a message that only the recipient could read. Together with the ability to sign the message with the sender's bitcoing address this could be the basis for a very simple (but secure) out-of-band messaging system:\\n\\nIf you happen to know a way to contact the recipient, you just send him a signed message (you yourself can even stay anonymous, but the message can be reliable attributed to your sender bitcoin address).\\n\\nIf you do not know a way (or do not trust the transportation channel), an encrypted message could be posted on a public board where the recipient could eventually pick it up. Notifications/polling could be integrated into the GUI application.\\n\\nAgain, everything out-of-band (not messing with the existing payment infrastructure), and it depends (at least for the encryption part) on a bitcoin receiver address functioning as an encryption key (does it?).\\n\",\n",
       "          'createdAt': '2011-03-24T23:29:42Z'}},\n",
       "        {'node': {'body': \"The receiver address is a hash of the public key; you don't see the full public key until the transaction is spent.\\n\",\n",
       "          'createdAt': '2011-03-25T01:13:13Z'}},\n",
       "        {'node': {'body': '\"The receiver address is a hash of the public key; you don\\'t see the full public key until the transaction is spent.\"\\n\\nIn this case, we can still sign messages regarding any payments we made, but we can only encrypt them, after the recipient has made any payment himself (at any time, potentially even before we made our payment, in case the \"account number\" has been used before)\\n\\nI think that is already enough to get some useful functionality going. This does not have even have to happen within the bitcoin. Are there tools to export private keys from your wallet and extract public keys from the block chain into standard formats for systems like openssl or PGP to use?\\n',\n",
       "          'createdAt': '2011-03-25T01:25:06Z'}},\n",
       "        {'node': {'body': '\"The receiver address is a hash of the public key; you don\\'t see the full public key until the transaction is spent.\"\\n\\nSo one thing that you could always do is to send an encrypted thank you message to someone who has sent you bitcoins (send = broadcast in case you don\\'t know who that is)\\n',\n",
       "          'createdAt': '2011-04-07T11:39:33Z'}},\n",
       "        {'node': {'body': 'Part of this is implemented through message signing.\\n',\n",
       "          'createdAt': '2012-02-27T22:06:27Z'}},\n",
       "        {'node': {'body': 'Closing; I think the message signing/verifying gives enough low-level support for interesting things to be built.\\n',\n",
       "          'createdAt': '2012-02-27T23:34:17Z'}}],\n",
       "       'pageInfo': {'hasNextPage': False,\n",
       "        'endCursor': 'Y3Vyc29yOnYyOpHOAEAt9A=='}}}}],\n",
       "   'pageInfo': {'hasNextPage': True,\n",
       "    'endCursor': 'Y3Vyc29yOnYyOpK5MjAxMC0xMi0yMlQxMjo1MToyOC0wMjowMM4AB3PP'}}}}"
      ]
     },
     "execution_count": 4,
     "metadata": {},
     "output_type": "execute_result"
    }
   ],
   "source": [
    "# le a query\n",
    "with open('../queries/bitcoin-core.graphql', 'r') as file:\n",
    "    query = file.read()\n",
    "    \n",
    "# inicializa cliente\n",
    "transport = RequestsHTTPTransport(\n",
    "    url='https://api.github.com/graphql',\n",
    "    headers={'Authorization': f'token {token}'}\n",
    ")\n",
    "client = Client(transport=transport, fetch_schema_from_transport=True)\n",
    "\n",
    "#executa query\n",
    "query = gql(query)\n",
    "result = client.execute(query)\n",
    "result\n"
   ]
  },
  {
   "cell_type": "code",
   "execution_count": 5,
   "id": "338a0e428a27c527",
   "metadata": {
    "collapsed": false,
    "is_executing": true,
    "jupyter": {
     "outputs_hidden": false
    }
   },
   "outputs": [],
   "source": [
    "#extrai issues e comentrios\n",
    "issues = result.get('repository', {}).get('issues', {}).get('edges', [])\n",
    "data = []\n",
    "\n",
    "for issue_edge in issues:\n",
    "    issue = issue_edge.get('node', {})\n",
    "    data.append(issue.get('body', ''))\n",
    "    \n",
    "    comments = issue.get('comments', {}).get('edges', [])\n",
    "    for comment_edge in comments:\n",
    "        comment = comment_edge.get('node', {})\n",
    "        data.append(comment.get('body', ''))"
   ]
  },
  {
   "cell_type": "code",
   "execution_count": 6,
   "id": "294aa2c0ccd7f33c",
   "metadata": {
    "collapsed": false,
    "jupyter": {
     "outputs_hidden": false
    }
   },
   "outputs": [
    {
     "name": "stdout",
     "output_type": "stream",
     "text": [
      "The word 'security' occurs 3 times in the repository.\n"
     ]
    }
   ],
   "source": [
    "#função para contagem de palavras\n",
    "def count_occurrences(text, word):\n",
    "    return len(re.findall(r'\\b' + re.escape(word) + r'\\b', text, re.IGNORECASE))\n",
    "\n",
    "# Combine all data into a single string\n",
    "combined_text = ' '.join(data)\n",
    "\n",
    "#conta a quantidade de ocorrencias de segurança\n",
    "security_count = count_occurrences(combined_text, 'security')\n",
    "\n",
    "print(f\"The word 'security' occurs {security_count} times in the repository.\")\n"
   ]
  },
  {
   "cell_type": "code",
   "execution_count": 7,
   "id": "a97c9a684d2173ac",
   "metadata": {
    "collapsed": false,
    "jupyter": {
     "outputs_hidden": false
    }
   },
   "outputs": [],
   "source": [
    "#função que combina os nodes em uma str\n",
    "def fetch_all_issues():\n",
    "    issue_cursor = None\n",
    "    comment_cursor = None\n",
    "    combined_text = []\n",
    "    \n",
    "    while True:\n",
    "        variables = {\n",
    "            'issueCursor': issue_cursor,\n",
    "            'commentCursor': comment_cursor\n",
    "        }\n",
    "\n",
    "        #executa query\n",
    "        try:\n",
    "            result = client.execute(query, variable_values=variables)\n",
    "        except Exception as e:\n",
    "            print(f\"An error occurred: {e}\")\n",
    "            break\n",
    "        \n",
    "        issues = result.get('repository', {}).get('issues', {}).get('edges', [])\n",
    "        \n",
    "        for issue_edge in issues:\n",
    "            issue = issue_edge.get('node', {})\n",
    "            combined_text.append(issue.get('body', ''))\n",
    "\n",
    "            #append o comentario na string\n",
    "            comments = issue.get('comments', {}).get('edges', [])\n",
    "            for comment_edge in comments:\n",
    "                comment = comment_edge.get('node', {})\n",
    "                combined_text.append(comment.get('body', ''))\n",
    "            \n",
    "            #prox pag de commentarios\n",
    "            page_info = issue.get('comments', {}).get('pageInfo', {})\n",
    "            comment_cursor = page_info.get('endCursor', None)\n",
    "            if not page_info.get('hasNextPage', False):\n",
    "                comment_cursor = None\n",
    "        \n",
    "        #prox pagina de issues\n",
    "        page_info = result.get('repository', {}).get('issues', {}).get('pageInfo', {})\n",
    "        issue_cursor = page_info.get('endCursor', None)\n",
    "        if not page_info.get('hasNextPage', False):\n",
    "            break\n",
    "    \n",
    "    return ' '.join(combined_text)\n",
    "\n",
    "combined_text = fetch_all_issues()"
   ]
  },
  {
   "cell_type": "code",
   "execution_count": 9,
   "id": "7af8900c7bdf4283",
   "metadata": {
    "collapsed": false,
    "jupyter": {
     "outputs_hidden": false
    }
   },
   "outputs": [
    {
     "name": "stdout",
     "output_type": "stream",
     "text": [
      "The word 'security' occurs 1454 times in the repository.\n"
     ]
    }
   ],
   "source": [
    "#função para contagem de palavras\n",
    "def count_occurrences(text, word):\n",
    "    return len(re.findall(r'\\b' + re.escape(word) + r'\\b', text, re.IGNORECASE))\n",
    "\n",
    "#contagem da palavra segurança\n",
    "security_count = count_occurrences(combined_text, 'security')\n",
    "\n",
    "print(f\"The word 'security' occurs {security_count} times in the repository.\")\n",
    "\n"
   ]
  },
  {
   "cell_type": "code",
   "execution_count": 10,
   "id": "75fe2e43-8aee-4511-b660-a6eb06dfd2d7",
   "metadata": {},
   "outputs": [
    {
     "name": "stdout",
     "output_type": "stream",
     "text": [
      "The word 'security' occurs 1454 times in the repository.\n",
      "The word 'privacy' occurs 467 times in the repository.\n",
      "The word 'ethics' occurs 5 times in the repository.\n",
      "The word 'confidentiality' occurs 4 times in the repository.\n",
      "The word 'integrity' occurs 54 times in the repository.\n"
     ]
    }
   ],
   "source": [
    "#função para contagem de palavras\n",
    "def count_occurrences(text, words):\n",
    "    word_counts = {word: len(re.findall(r'\\b' + re.escape(word) + r'\\b', text, re.IGNORECASE)) for word in words}\n",
    "    return word_counts\n",
    "\n",
    "# conta e define palavras a serem contadas\n",
    "ethical_words = ['security', 'privacy', 'ethics', 'confidentiality', 'integrity']\n",
    "word_counts = count_occurrences(combined_text, ethical_words)\n",
    "\n",
    "#Imprime as ocorrencias de palavras\n",
    "for word, count in word_counts.items():\n",
    "    print(f\"The word '{word}' occurs {count} times in the repository.\")\n"
   ]
  },
  {
   "cell_type": "code",
   "execution_count": 11,
   "id": "bde0d7f4-1990-4399-8092-4d012cf63982",
   "metadata": {},
   "outputs": [],
   "source": [
    "def fetch_all_issues():\n",
    "    issue_cursor = None\n",
    "    comment_cursor = None\n",
    "    issues = []\n",
    "    comments = []\n",
    "    \n",
    "    while True:\n",
    "        variables = {\n",
    "            'issueCursor': issue_cursor,\n",
    "            'commentCursor': comment_cursor\n",
    "        }\n",
    "        \n",
    "        try:\n",
    "            result = client.execute(query, variable_values=variables)\n",
    "        except Exception as e:\n",
    "            print(f\"An error occurred: {e}\")\n",
    "            break\n",
    "        \n",
    "        issues_data = result.get('repository', {}).get('issues', {}).get('edges', [])\n",
    "        \n",
    "        for issue_edge in issues_data:\n",
    "            issue = issue_edge.get('node', {})\n",
    "            issues.append(issue.get('body', ''))\n",
    "            \n",
    "            comments_data = issue.get('comments', {}).get('edges', [])\n",
    "            for comment_edge in comments_data:\n",
    "                comment = comment_edge.get('node', {})\n",
    "                comments.append(comment.get('body', ''))\n",
    "            \n",
    "            # Update the comment cursor for pagination\n",
    "            page_info = issue.get('comments', {}).get('pageInfo', {})\n",
    "            comment_cursor = page_info.get('endCursor', None)\n",
    "            if not page_info.get('hasNextPage', False):\n",
    "                comment_cursor = None\n",
    "        \n",
    "        # Update the issue cursor for pagination\n",
    "        page_info = result.get('repository', {}).get('issues', {}).get('pageInfo', {})\n",
    "        issue_cursor = page_info.get('endCursor', None)\n",
    "        if not page_info.get('hasNextPage', False):\n",
    "            break\n",
    "    \n",
    "    return issues, comments\n",
    "\n",
    "issues, comments = fetch_all_issues()\n",
    "total_issues = len(issues)\n",
    "total_comments = len(comments)"
   ]
  },
  {
   "cell_type": "code",
   "execution_count": 12,
   "id": "add186ca-f909-400e-92fb-68708450759b",
   "metadata": {},
   "outputs": [
    {
     "name": "stdout",
     "output_type": "stream",
     "text": [
      "The word 'security' appears in 633 issues and 304 comments.\n",
      "Percentage of issues containing 'security': 7.82%\n",
      "Percentage of comments containing 'security': 0.93%\n",
      "The word 'privacy' appears in 71 issues and 152 comments.\n",
      "Percentage of issues containing 'privacy': 0.88%\n",
      "Percentage of comments containing 'privacy': 0.47%\n",
      "The word 'ethics' appears in 1 issues and 4 comments.\n",
      "Percentage of issues containing 'ethics': 0.01%\n",
      "Percentage of comments containing 'ethics': 0.01%\n",
      "The word 'confidentiality' appears in 2 issues and 2 comments.\n",
      "Percentage of issues containing 'confidentiality': 0.02%\n",
      "Percentage of comments containing 'confidentiality': 0.01%\n",
      "The word 'integrity' appears in 24 issues and 23 comments.\n",
      "Percentage of issues containing 'integrity': 0.30%\n",
      "Percentage of comments containing 'integrity': 0.07%\n"
     ]
    }
   ],
   "source": [
    "# Cell 4: Define a function to count the number of issues and comments containing specific words\n",
    "def count_contains(text_list, words):\n",
    "    counts = {word: {'issues': 0, 'comments': 0} for word in words}\n",
    "    \n",
    "    for text in text_list:\n",
    "        for word in words:\n",
    "            if re.search(r'\\b' + re.escape(word) + r'\\b', text, re.IGNORECASE):\n",
    "                if text in issues:\n",
    "                    counts[word]['issues'] += 1\n",
    "                elif text in comments:\n",
    "                    counts[word]['comments'] += 1\n",
    "\n",
    "    return counts\n",
    "\n",
    "# List of ethical-related words to search for\n",
    "ethical_words = ['security', 'privacy', 'ethics', 'confidentiality', 'integrity']\n",
    "\n",
    "# Count occurrences in issues and comments\n",
    "word_counts = count_contains(issues + comments, ethical_words)\n",
    "\n",
    "# Print the results\n",
    "for word, counts in word_counts.items():\n",
    "    print(f\"The word '{word}' appears in {counts['issues']} issues and {counts['comments']} comments.\")\n",
    "    print(f\"Percentage of issues containing '{word}': {counts['issues'] / total_issues * 100:.2f}%\")\n",
    "    print(f\"Percentage of comments containing '{word}': {counts['comments'] / total_comments * 100:.2f}%\")\n"
   ]
  }
 ],
 "metadata": {
  "kernelspec": {
   "display_name": "Python 3 (ipykernel)",
   "language": "python",
   "name": "python3"
  },
  "language_info": {
   "codemirror_mode": {
    "name": "ipython",
    "version": 3
   },
   "file_extension": ".py",
   "mimetype": "text/x-python",
   "name": "python",
   "nbconvert_exporter": "python",
   "pygments_lexer": "ipython3",
   "version": "3.12.1"
  }
 },
 "nbformat": 4,
 "nbformat_minor": 5
}
